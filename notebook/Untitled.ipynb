{
 "cells": [
  {
   "cell_type": "markdown",
   "id": "03991f94",
   "metadata": {},
   "source": [
    "# Flight fare prediction\n",
    "\n",
    "* importing all needed packages\n",
    "\n",
    "1. Import Data \n",
    "2. EDA\n",
    "3. Feature Engineering\n",
    "4. Model Building\n",
    "5. Model Evaluation\n",
    "6. HyperParameter Tuning\n",
    "7. Conclusion"
   ]
  },
  {
   "cell_type": "code",
   "execution_count": 1,
   "id": "9cf7cdd9",
   "metadata": {},
   "outputs": [],
   "source": [
    "import pandas as pd\n",
    "import numpy as np\n",
    "import seaborn as sns\n",
    "import matplotlib.pyplot as plt\n",
    "\n",
    "\n",
    "from sklearn.preprocessing import StandardScaler,OneHotEncoder\n",
    "from sklearn.model_selection import train_test_split\n",
    "from sklearn.ensemble import RandomForestRegressor\n",
    "from sklearn.ensemble import GradientBoostingRegressor\n",
    "from sklearn.tree import DecisionTreeRegressor\n",
    "from sklearn.svm import SVR\n",
    "from sklearn.neighbors import KNeighborsRegressor\n",
    "from sklearn.linear_model import LinearRegression\n",
    "from sklearn.linear_model import Ridge, Lasso\n",
    "from sklearn.ensemble import AdaBoostRegressor\n",
    "from xgboost import XGBRegressor\n",
    "\n",
    "from sklearn.model_selection import GridSearchCV,RandomizedSearchCV\n",
    "\n",
    "from sklearn.metrics import r2_score,mean_absolute_error,mean_squared_error,roc_auc_score"
   ]
  },
  {
   "cell_type": "markdown",
   "id": "cf05605b",
   "metadata": {},
   "source": [
    "## 1. import data"
   ]
  },
  {
   "cell_type": "code",
   "execution_count": 5,
   "id": "85ee04e0",
   "metadata": {},
   "outputs": [
    {
     "ename": "FileNotFoundError",
     "evalue": "[Errno 2] No such file or directory: 'data/Data_Train.xlsx'",
     "output_type": "error",
     "traceback": [
      "\u001b[0;31m---------------------------------------------------------------------------\u001b[0m",
      "\u001b[0;31mFileNotFoundError\u001b[0m                         Traceback (most recent call last)",
      "Cell \u001b[0;32mIn[5], line 1\u001b[0m\n\u001b[0;32m----> 1\u001b[0m df \u001b[38;5;241m=\u001b[39m \u001b[43mpd\u001b[49m\u001b[38;5;241;43m.\u001b[39;49m\u001b[43mread_excel\u001b[49m\u001b[43m(\u001b[49m\u001b[38;5;124;43m'\u001b[39;49m\u001b[38;5;124;43mdata/Data_Train.xlsx\u001b[39;49m\u001b[38;5;124;43m'\u001b[39;49m\u001b[43m)\u001b[49m\n",
      "File \u001b[0;32m/Library/Frameworks/Python.framework/Versions/3.11/lib/python3.11/site-packages/pandas/util/_decorators.py:211\u001b[0m, in \u001b[0;36mdeprecate_kwarg.<locals>._deprecate_kwarg.<locals>.wrapper\u001b[0;34m(*args, **kwargs)\u001b[0m\n\u001b[1;32m    209\u001b[0m     \u001b[38;5;28;01melse\u001b[39;00m:\n\u001b[1;32m    210\u001b[0m         kwargs[new_arg_name] \u001b[38;5;241m=\u001b[39m new_arg_value\n\u001b[0;32m--> 211\u001b[0m \u001b[38;5;28;01mreturn\u001b[39;00m \u001b[43mfunc\u001b[49m\u001b[43m(\u001b[49m\u001b[38;5;241;43m*\u001b[39;49m\u001b[43margs\u001b[49m\u001b[43m,\u001b[49m\u001b[43m \u001b[49m\u001b[38;5;241;43m*\u001b[39;49m\u001b[38;5;241;43m*\u001b[39;49m\u001b[43mkwargs\u001b[49m\u001b[43m)\u001b[49m\n",
      "File \u001b[0;32m/Library/Frameworks/Python.framework/Versions/3.11/lib/python3.11/site-packages/pandas/util/_decorators.py:331\u001b[0m, in \u001b[0;36mdeprecate_nonkeyword_arguments.<locals>.decorate.<locals>.wrapper\u001b[0;34m(*args, **kwargs)\u001b[0m\n\u001b[1;32m    325\u001b[0m \u001b[38;5;28;01mif\u001b[39;00m \u001b[38;5;28mlen\u001b[39m(args) \u001b[38;5;241m>\u001b[39m num_allow_args:\n\u001b[1;32m    326\u001b[0m     warnings\u001b[38;5;241m.\u001b[39mwarn(\n\u001b[1;32m    327\u001b[0m         msg\u001b[38;5;241m.\u001b[39mformat(arguments\u001b[38;5;241m=\u001b[39m_format_argument_list(allow_args)),\n\u001b[1;32m    328\u001b[0m         \u001b[38;5;167;01mFutureWarning\u001b[39;00m,\n\u001b[1;32m    329\u001b[0m         stacklevel\u001b[38;5;241m=\u001b[39mfind_stack_level(),\n\u001b[1;32m    330\u001b[0m     )\n\u001b[0;32m--> 331\u001b[0m \u001b[38;5;28;01mreturn\u001b[39;00m \u001b[43mfunc\u001b[49m\u001b[43m(\u001b[49m\u001b[38;5;241;43m*\u001b[39;49m\u001b[43margs\u001b[49m\u001b[43m,\u001b[49m\u001b[43m \u001b[49m\u001b[38;5;241;43m*\u001b[39;49m\u001b[38;5;241;43m*\u001b[39;49m\u001b[43mkwargs\u001b[49m\u001b[43m)\u001b[49m\n",
      "File \u001b[0;32m/Library/Frameworks/Python.framework/Versions/3.11/lib/python3.11/site-packages/pandas/io/excel/_base.py:482\u001b[0m, in \u001b[0;36mread_excel\u001b[0;34m(io, sheet_name, header, names, index_col, usecols, squeeze, dtype, engine, converters, true_values, false_values, skiprows, nrows, na_values, keep_default_na, na_filter, verbose, parse_dates, date_parser, thousands, decimal, comment, skipfooter, convert_float, mangle_dupe_cols, storage_options)\u001b[0m\n\u001b[1;32m    480\u001b[0m \u001b[38;5;28;01mif\u001b[39;00m \u001b[38;5;129;01mnot\u001b[39;00m \u001b[38;5;28misinstance\u001b[39m(io, ExcelFile):\n\u001b[1;32m    481\u001b[0m     should_close \u001b[38;5;241m=\u001b[39m \u001b[38;5;28;01mTrue\u001b[39;00m\n\u001b[0;32m--> 482\u001b[0m     io \u001b[38;5;241m=\u001b[39m \u001b[43mExcelFile\u001b[49m\u001b[43m(\u001b[49m\u001b[43mio\u001b[49m\u001b[43m,\u001b[49m\u001b[43m \u001b[49m\u001b[43mstorage_options\u001b[49m\u001b[38;5;241;43m=\u001b[39;49m\u001b[43mstorage_options\u001b[49m\u001b[43m,\u001b[49m\u001b[43m \u001b[49m\u001b[43mengine\u001b[49m\u001b[38;5;241;43m=\u001b[39;49m\u001b[43mengine\u001b[49m\u001b[43m)\u001b[49m\n\u001b[1;32m    483\u001b[0m \u001b[38;5;28;01melif\u001b[39;00m engine \u001b[38;5;129;01mand\u001b[39;00m engine \u001b[38;5;241m!=\u001b[39m io\u001b[38;5;241m.\u001b[39mengine:\n\u001b[1;32m    484\u001b[0m     \u001b[38;5;28;01mraise\u001b[39;00m \u001b[38;5;167;01mValueError\u001b[39;00m(\n\u001b[1;32m    485\u001b[0m         \u001b[38;5;124m\"\u001b[39m\u001b[38;5;124mEngine should not be specified when passing \u001b[39m\u001b[38;5;124m\"\u001b[39m\n\u001b[1;32m    486\u001b[0m         \u001b[38;5;124m\"\u001b[39m\u001b[38;5;124man ExcelFile - ExcelFile already has the engine set\u001b[39m\u001b[38;5;124m\"\u001b[39m\n\u001b[1;32m    487\u001b[0m     )\n",
      "File \u001b[0;32m/Library/Frameworks/Python.framework/Versions/3.11/lib/python3.11/site-packages/pandas/io/excel/_base.py:1652\u001b[0m, in \u001b[0;36mExcelFile.__init__\u001b[0;34m(self, path_or_buffer, engine, storage_options)\u001b[0m\n\u001b[1;32m   1650\u001b[0m     ext \u001b[38;5;241m=\u001b[39m \u001b[38;5;124m\"\u001b[39m\u001b[38;5;124mxls\u001b[39m\u001b[38;5;124m\"\u001b[39m\n\u001b[1;32m   1651\u001b[0m \u001b[38;5;28;01melse\u001b[39;00m:\n\u001b[0;32m-> 1652\u001b[0m     ext \u001b[38;5;241m=\u001b[39m \u001b[43minspect_excel_format\u001b[49m\u001b[43m(\u001b[49m\n\u001b[1;32m   1653\u001b[0m \u001b[43m        \u001b[49m\u001b[43mcontent_or_path\u001b[49m\u001b[38;5;241;43m=\u001b[39;49m\u001b[43mpath_or_buffer\u001b[49m\u001b[43m,\u001b[49m\u001b[43m \u001b[49m\u001b[43mstorage_options\u001b[49m\u001b[38;5;241;43m=\u001b[39;49m\u001b[43mstorage_options\u001b[49m\n\u001b[1;32m   1654\u001b[0m \u001b[43m    \u001b[49m\u001b[43m)\u001b[49m\n\u001b[1;32m   1655\u001b[0m     \u001b[38;5;28;01mif\u001b[39;00m ext \u001b[38;5;129;01mis\u001b[39;00m \u001b[38;5;28;01mNone\u001b[39;00m:\n\u001b[1;32m   1656\u001b[0m         \u001b[38;5;28;01mraise\u001b[39;00m \u001b[38;5;167;01mValueError\u001b[39;00m(\n\u001b[1;32m   1657\u001b[0m             \u001b[38;5;124m\"\u001b[39m\u001b[38;5;124mExcel file format cannot be determined, you must specify \u001b[39m\u001b[38;5;124m\"\u001b[39m\n\u001b[1;32m   1658\u001b[0m             \u001b[38;5;124m\"\u001b[39m\u001b[38;5;124man engine manually.\u001b[39m\u001b[38;5;124m\"\u001b[39m\n\u001b[1;32m   1659\u001b[0m         )\n",
      "File \u001b[0;32m/Library/Frameworks/Python.framework/Versions/3.11/lib/python3.11/site-packages/pandas/io/excel/_base.py:1525\u001b[0m, in \u001b[0;36minspect_excel_format\u001b[0;34m(content_or_path, storage_options)\u001b[0m\n\u001b[1;32m   1522\u001b[0m \u001b[38;5;28;01mif\u001b[39;00m \u001b[38;5;28misinstance\u001b[39m(content_or_path, \u001b[38;5;28mbytes\u001b[39m):\n\u001b[1;32m   1523\u001b[0m     content_or_path \u001b[38;5;241m=\u001b[39m BytesIO(content_or_path)\n\u001b[0;32m-> 1525\u001b[0m \u001b[38;5;28;01mwith\u001b[39;00m \u001b[43mget_handle\u001b[49m\u001b[43m(\u001b[49m\n\u001b[1;32m   1526\u001b[0m \u001b[43m    \u001b[49m\u001b[43mcontent_or_path\u001b[49m\u001b[43m,\u001b[49m\u001b[43m \u001b[49m\u001b[38;5;124;43m\"\u001b[39;49m\u001b[38;5;124;43mrb\u001b[39;49m\u001b[38;5;124;43m\"\u001b[39;49m\u001b[43m,\u001b[49m\u001b[43m \u001b[49m\u001b[43mstorage_options\u001b[49m\u001b[38;5;241;43m=\u001b[39;49m\u001b[43mstorage_options\u001b[49m\u001b[43m,\u001b[49m\u001b[43m \u001b[49m\u001b[43mis_text\u001b[49m\u001b[38;5;241;43m=\u001b[39;49m\u001b[38;5;28;43;01mFalse\u001b[39;49;00m\n\u001b[1;32m   1527\u001b[0m \u001b[43m\u001b[49m\u001b[43m)\u001b[49m \u001b[38;5;28;01mas\u001b[39;00m handle:\n\u001b[1;32m   1528\u001b[0m     stream \u001b[38;5;241m=\u001b[39m handle\u001b[38;5;241m.\u001b[39mhandle\n\u001b[1;32m   1529\u001b[0m     stream\u001b[38;5;241m.\u001b[39mseek(\u001b[38;5;241m0\u001b[39m)\n",
      "File \u001b[0;32m/Library/Frameworks/Python.framework/Versions/3.11/lib/python3.11/site-packages/pandas/io/common.py:865\u001b[0m, in \u001b[0;36mget_handle\u001b[0;34m(path_or_buf, mode, encoding, compression, memory_map, is_text, errors, storage_options)\u001b[0m\n\u001b[1;32m    856\u001b[0m         handle \u001b[38;5;241m=\u001b[39m \u001b[38;5;28mopen\u001b[39m(\n\u001b[1;32m    857\u001b[0m             handle,\n\u001b[1;32m    858\u001b[0m             ioargs\u001b[38;5;241m.\u001b[39mmode,\n\u001b[0;32m   (...)\u001b[0m\n\u001b[1;32m    861\u001b[0m             newline\u001b[38;5;241m=\u001b[39m\u001b[38;5;124m\"\u001b[39m\u001b[38;5;124m\"\u001b[39m,\n\u001b[1;32m    862\u001b[0m         )\n\u001b[1;32m    863\u001b[0m     \u001b[38;5;28;01melse\u001b[39;00m:\n\u001b[1;32m    864\u001b[0m         \u001b[38;5;66;03m# Binary mode\u001b[39;00m\n\u001b[0;32m--> 865\u001b[0m         handle \u001b[38;5;241m=\u001b[39m \u001b[38;5;28;43mopen\u001b[39;49m\u001b[43m(\u001b[49m\u001b[43mhandle\u001b[49m\u001b[43m,\u001b[49m\u001b[43m \u001b[49m\u001b[43mioargs\u001b[49m\u001b[38;5;241;43m.\u001b[39;49m\u001b[43mmode\u001b[49m\u001b[43m)\u001b[49m\n\u001b[1;32m    866\u001b[0m     handles\u001b[38;5;241m.\u001b[39mappend(handle)\n\u001b[1;32m    868\u001b[0m \u001b[38;5;66;03m# Convert BytesIO or file objects passed with an encoding\u001b[39;00m\n",
      "\u001b[0;31mFileNotFoundError\u001b[0m: [Errno 2] No such file or directory: 'data/Data_Train.xlsx'"
     ]
    }
   ],
   "source": [
    "df = pd.read_excel('data/Data_Train.xlsx')"
   ]
  },
  {
   "cell_type": "code",
   "execution_count": null,
   "id": "99437f80",
   "metadata": {},
   "outputs": [],
   "source": [
    "df.head()"
   ]
  },
  {
   "cell_type": "markdown",
   "id": "d8d07684",
   "metadata": {},
   "source": [
    "## 2. EDA"
   ]
  },
  {
   "cell_type": "code",
   "execution_count": null,
   "id": "8981c5b1",
   "metadata": {},
   "outputs": [],
   "source": [
    "df.info()"
   ]
  },
  {
   "cell_type": "code",
   "execution_count": null,
   "id": "2af439fe",
   "metadata": {},
   "outputs": [],
   "source": [
    "df.describe()"
   ]
  },
  {
   "cell_type": "code",
   "execution_count": null,
   "id": "6acb5e8d",
   "metadata": {},
   "outputs": [],
   "source": [
    "sns.histplot(df.Price,kde=True)"
   ]
  },
  {
   "cell_type": "code",
   "execution_count": null,
   "id": "cc5c5381",
   "metadata": {},
   "outputs": [],
   "source": [
    "sns.boxplot(df.Price)"
   ]
  },
  {
   "cell_type": "code",
   "execution_count": null,
   "id": "98200c07",
   "metadata": {},
   "outputs": [],
   "source": [
    "df.head()"
   ]
  },
  {
   "cell_type": "code",
   "execution_count": null,
   "id": "ad110dc9",
   "metadata": {},
   "outputs": [],
   "source": [
    "fig = plt.figure(figsize=(12,6))\n",
    "plt.xticks(rotation=90)\n",
    "sns.countplot(x=df.Airline,)\n",
    "plt.show()"
   ]
  },
  {
   "cell_type": "code",
   "execution_count": null,
   "id": "0084b95b",
   "metadata": {},
   "outputs": [],
   "source": [
    "df.groupby(['Airline']).mean().plot(kind='bar',color='orange')"
   ]
  },
  {
   "cell_type": "markdown",
   "id": "55520ed8",
   "metadata": {},
   "source": [
    "Jet Airways Business make sense for the outliers"
   ]
  },
  {
   "cell_type": "code",
   "execution_count": null,
   "id": "5e6e4b9a",
   "metadata": {},
   "outputs": [],
   "source": [
    "df[df['Airline'] != 'Jet Airways Business'].groupby(['Airline']).mean().plot(kind='bar',color='green')"
   ]
  },
  {
   "cell_type": "code",
   "execution_count": null,
   "id": "3c1866ad",
   "metadata": {},
   "outputs": [],
   "source": [
    "df.head()"
   ]
  },
  {
   "cell_type": "code",
   "execution_count": null,
   "id": "da304193",
   "metadata": {},
   "outputs": [],
   "source": [
    "sns.catplot(y=\"Price\",x=\"Airline\",data=df.sort_values(\"Price\",ascending=False),kind=\"boxen\",height=6,aspect=3)\n"
   ]
  },
  {
   "cell_type": "code",
   "execution_count": null,
   "id": "f6675c20",
   "metadata": {},
   "outputs": [],
   "source": [
    "sns.catplot(y=\"Price\",x=\"Source\",data = df,kind=\"bar\",palette=\"blend:#7AB,#EDA\")"
   ]
  },
  {
   "cell_type": "code",
   "execution_count": null,
   "id": "7e68fdc5",
   "metadata": {},
   "outputs": [],
   "source": [
    "sns.catplot(y=\"Price\",x=\"Destination\",data = df,kind=\"bar\",palette=\"blend:#7AB,#EDA\")"
   ]
  },
  {
   "cell_type": "code",
   "execution_count": null,
   "id": "49de9c86",
   "metadata": {},
   "outputs": [],
   "source": [
    "sns.catplot(y=\"Price\",x=\"Total_Stops\",data = df,kind=\"bar\",palette=\"blend:#7AB,#EDA\")"
   ]
  },
  {
   "cell_type": "code",
   "execution_count": null,
   "id": "5f679fce",
   "metadata": {},
   "outputs": [],
   "source": [
    "sns.countplot(x = df.Total_Stops,palette=\"flare\")"
   ]
  },
  {
   "cell_type": "code",
   "execution_count": null,
   "id": "a8d6b20a",
   "metadata": {},
   "outputs": [],
   "source": [
    "df.head()"
   ]
  },
  {
   "cell_type": "code",
   "execution_count": null,
   "id": "f427a1de",
   "metadata": {},
   "outputs": [],
   "source": [
    "plt.figure(figsize=(12,6))\n",
    "sns.catplot(y=\"Price\",x=\"Additional_Info\",data = df,kind=\"bar\",palette=\"blend:#7AB,#EDA\")\n",
    "plt.show()\n"
   ]
  },
  {
   "cell_type": "code",
   "execution_count": null,
   "id": "2a7fc801",
   "metadata": {},
   "outputs": [],
   "source": []
  },
  {
   "cell_type": "markdown",
   "id": "997aa8f5",
   "metadata": {},
   "source": [
    "## 3. feature engineering"
   ]
  },
  {
   "cell_type": "code",
   "execution_count": null,
   "id": "7f4dab70",
   "metadata": {},
   "outputs": [],
   "source": [
    "df.head()"
   ]
  },
  {
   "cell_type": "markdown",
   "id": "02474bc3",
   "metadata": {},
   "source": [
    "handle date and time"
   ]
  },
  {
   "cell_type": "code",
   "execution_count": null,
   "id": "706bda8e",
   "metadata": {},
   "outputs": [],
   "source": [
    "df[\"Journey_day\"]=pd.to_datetime(df[\"Date_of_Journey\"],format=\"%d/%m/%Y\").dt.day\n",
    "df[\"Journey_month\"]=pd.to_datetime(df[\"Date_of_Journey\"],format=\"%d/%m/%Y\").dt.month\n",
    "\n"
   ]
  },
  {
   "cell_type": "code",
   "execution_count": null,
   "id": "e327bfbd",
   "metadata": {},
   "outputs": [],
   "source": [
    "df"
   ]
  },
  {
   "cell_type": "code",
   "execution_count": null,
   "id": "a66ce58d",
   "metadata": {},
   "outputs": [],
   "source": [
    "df[\"Dep_hour\"] = pd.to_datetime(df[\"Dep_Time\"]).dt.hour\n",
    "df[\"Dep_min\"] = pd.to_datetime(df[\"Dep_Time\"]).dt.minute\n"
   ]
  },
  {
   "cell_type": "code",
   "execution_count": null,
   "id": "f3925ec3",
   "metadata": {},
   "outputs": [],
   "source": [
    "df"
   ]
  },
  {
   "cell_type": "code",
   "execution_count": null,
   "id": "341bb9bc",
   "metadata": {},
   "outputs": [],
   "source": [
    "df[\"Arr_hour\"] = pd.to_datetime(df[\"Arrival_Time\"]).dt.hour\n",
    "df[\"Arr_min\"] = pd.to_datetime(df[\"Arrival_Time\"]).dt.minute"
   ]
  },
  {
   "cell_type": "code",
   "execution_count": null,
   "id": "9ef224d6",
   "metadata": {},
   "outputs": [],
   "source": [
    "df"
   ]
  },
  {
   "cell_type": "code",
   "execution_count": null,
   "id": "38756ebd",
   "metadata": {},
   "outputs": [],
   "source": [
    "dur_hour=[]\n",
    "dur_min=[]\n",
    "for i in df.Duration:\n",
    "    if 'h'in i and 'm' in i:\n",
    "        dur_hour.append(int(i.split('h')[0]))\n",
    "        dur_min.append(int(i.split('h')[1][:-1]))\n",
    "    elif 'h' in i:\n",
    "        dur_hour.append(int(i.split('h')[0]))\n",
    "        dur_min.append(int(0))\n",
    "        \n",
    "    else:\n",
    "        dur_hour.append(int(0))\n",
    "        dur_min.append(int(i[:-1]))\n",
    "        \n",
    "        "
   ]
  },
  {
   "cell_type": "code",
   "execution_count": null,
   "id": "32329b97",
   "metadata": {},
   "outputs": [],
   "source": [
    "df['Duration_hour'] = dur_hour\n",
    "df['Duration_min'] = dur_min"
   ]
  },
  {
   "cell_type": "code",
   "execution_count": null,
   "id": "ac78044a",
   "metadata": {},
   "outputs": [],
   "source": [
    " df"
   ]
  },
  {
   "cell_type": "code",
   "execution_count": null,
   "id": "da150848",
   "metadata": {},
   "outputs": [],
   "source": [
    "df.drop(columns=['Date_of_Journey','Route','Dep_Time','Arrival_Time','Duration','Additional_Info'],axis=1,inplace=True)"
   ]
  },
  {
   "cell_type": "code",
   "execution_count": null,
   "id": "8ce1ec65",
   "metadata": {},
   "outputs": [],
   "source": [
    "df"
   ]
  },
  {
   "cell_type": "code",
   "execution_count": null,
   "id": "944041bd",
   "metadata": {},
   "outputs": [],
   "source": [
    "df['Source'] = df.Source.apply(lambda x: \"Source_\" + x)\n",
    "df['Destination'] = df.Destination.apply(lambda x: \"Destination_\" + x)"
   ]
  },
  {
   "cell_type": "code",
   "execution_count": null,
   "id": "1857b590",
   "metadata": {},
   "outputs": [],
   "source": []
  },
  {
   "cell_type": "code",
   "execution_count": null,
   "id": "14da8e7d",
   "metadata": {},
   "outputs": [],
   "source": []
  },
  {
   "cell_type": "code",
   "execution_count": null,
   "id": "573601eb",
   "metadata": {},
   "outputs": [],
   "source": [
    "sns.scatterplot(x=df.Dep_hour,y=df.Price,hue=df.Airline)"
   ]
  },
  {
   "cell_type": "code",
   "execution_count": null,
   "id": "2eed5db9",
   "metadata": {},
   "outputs": [],
   "source": [
    "sns.heatmap(df.corr(),annot=True)"
   ]
  },
  {
   "cell_type": "code",
   "execution_count": null,
   "id": "acdf05b3",
   "metadata": {},
   "outputs": [],
   "source": [
    "df"
   ]
  },
  {
   "cell_type": "code",
   "execution_count": null,
   "id": "2a155276",
   "metadata": {},
   "outputs": [],
   "source": [
    "df['Total_Stops'] = df.Total_Stops.replace({\"non-stop\":0,\"1 stop\" : 1,\"2 stops\":2,\"3 stops\":3,\"4 stops\":4})"
   ]
  },
  {
   "cell_type": "code",
   "execution_count": null,
   "id": "27822d0f",
   "metadata": {},
   "outputs": [],
   "source": [
    "df"
   ]
  },
  {
   "cell_type": "code",
   "execution_count": null,
   "id": "fe35b60c",
   "metadata": {},
   "outputs": [],
   "source": []
  },
  {
   "cell_type": "code",
   "execution_count": null,
   "id": "de167079",
   "metadata": {},
   "outputs": [],
   "source": [
    "df.Total_Stops.unique()"
   ]
  },
  {
   "cell_type": "code",
   "execution_count": null,
   "id": "99a8225e",
   "metadata": {},
   "outputs": [],
   "source": [
    "df.isnull().sum()"
   ]
  },
  {
   "cell_type": "code",
   "execution_count": null,
   "id": "c2541c69",
   "metadata": {},
   "outputs": [],
   "source": [
    "df['Total_Stops'] = df.Total_Stops.fillna(df.Total_Stops.median())"
   ]
  },
  {
   "cell_type": "code",
   "execution_count": null,
   "id": "af4e6bd3",
   "metadata": {},
   "outputs": [],
   "source": [
    "df['Total_Stops'] = df.Total_Stops.apply(lambda x: int(x))"
   ]
  },
  {
   "cell_type": "code",
   "execution_count": null,
   "id": "639cd934",
   "metadata": {},
   "outputs": [],
   "source": [
    "df"
   ]
  },
  {
   "cell_type": "code",
   "execution_count": null,
   "id": "c11aa47c",
   "metadata": {},
   "outputs": [],
   "source": [
    "df = pd.concat([df,pd.get_dummies(df.Airline,drop_first=True)],axis=1)"
   ]
  },
  {
   "cell_type": "code",
   "execution_count": null,
   "id": "afdee3ef",
   "metadata": {},
   "outputs": [],
   "source": [
    "df"
   ]
  },
  {
   "cell_type": "code",
   "execution_count": null,
   "id": "15f254b8",
   "metadata": {},
   "outputs": [],
   "source": [
    "df = pd.concat([df,pd.get_dummies(df.Source,drop_first=True)],axis=1)"
   ]
  },
  {
   "cell_type": "code",
   "execution_count": null,
   "id": "990b1d3a",
   "metadata": {},
   "outputs": [],
   "source": [
    "df = pd.concat([df,pd.get_dummies(df.Destination,drop_first=True)],axis=1)"
   ]
  },
  {
   "cell_type": "code",
   "execution_count": null,
   "id": "f8cdf23a",
   "metadata": {},
   "outputs": [],
   "source": [
    "df"
   ]
  },
  {
   "cell_type": "code",
   "execution_count": null,
   "id": "d5ea7b0f",
   "metadata": {},
   "outputs": [],
   "source": [
    "df.drop(columns=['Airline','Source','Destination'],axis=1,inplace=True)"
   ]
  },
  {
   "cell_type": "code",
   "execution_count": null,
   "id": "f790d273",
   "metadata": {},
   "outputs": [],
   "source": [
    "df"
   ]
  },
  {
   "cell_type": "code",
   "execution_count": null,
   "id": "148ac4dc",
   "metadata": {},
   "outputs": [],
   "source": [
    "plt.figure(figsize=(12,8))\n",
    "sns.heatmap(df.corr(),annot=True)"
   ]
  },
  {
   "cell_type": "code",
   "execution_count": null,
   "id": "29e1c705",
   "metadata": {},
   "outputs": [],
   "source": [
    "X,y = df.drop(['Price'],axis=1), df['Price']"
   ]
  },
  {
   "cell_type": "code",
   "execution_count": null,
   "id": "4fce049e",
   "metadata": {},
   "outputs": [],
   "source": [
    "X"
   ]
  },
  {
   "cell_type": "code",
   "execution_count": null,
   "id": "b8252d31",
   "metadata": {},
   "outputs": [],
   "source": [
    "y"
   ]
  },
  {
   "cell_type": "code",
   "execution_count": null,
   "id": "350bd015",
   "metadata": {},
   "outputs": [],
   "source": [
    "sc = StandardScaler()"
   ]
  },
  {
   "cell_type": "code",
   "execution_count": null,
   "id": "bcf14850",
   "metadata": {},
   "outputs": [],
   "source": [
    "X_train,X_test,y_train,y_test = train_test_split(X,y,test_size=0.3,random_state=42)"
   ]
  },
  {
   "cell_type": "code",
   "execution_count": null,
   "id": "866954cc",
   "metadata": {},
   "outputs": [],
   "source": [
    "X_train = sc.fit_transform(X_train)"
   ]
  },
  {
   "cell_type": "code",
   "execution_count": null,
   "id": "2fed522c",
   "metadata": {},
   "outputs": [],
   "source": [
    "X_test = sc.transform(X_test)"
   ]
  },
  {
   "cell_type": "code",
   "execution_count": null,
   "id": "de174c5d",
   "metadata": {},
   "outputs": [],
   "source": []
  },
  {
   "cell_type": "code",
   "execution_count": null,
   "id": "403bf2c6",
   "metadata": {},
   "outputs": [],
   "source": []
  },
  {
   "cell_type": "markdown",
   "id": "4124add0",
   "metadata": {},
   "source": [
    "## 5. model building"
   ]
  },
  {
   "cell_type": "code",
   "execution_count": null,
   "id": "7ef8ed95",
   "metadata": {},
   "outputs": [],
   "source": [
    "models = {\n",
    "    \"random_forests\" : RandomForestRegressor(),\n",
    "    \"decision_tree\" : DecisionTreeRegressor(),\n",
    "    \"gradient_boosting\" : GradientBoostingRegressor(),\n",
    "    \"svr\" : SVR(),\n",
    "    \"KNN\" : KNeighborsRegressor()\n",
    "}"
   ]
  },
  {
   "cell_type": "code",
   "execution_count": null,
   "id": "6592f7f2",
   "metadata": {},
   "outputs": [],
   "source": [
    "def evaluate_model(true,predicted):\n",
    "    mae = mean_absolute_error(true,predicted)\n",
    "    mse = mean_squared_error(true,predicted)\n",
    "    rmse = np.sqrt(mean_squared_error(true,predicted))\n",
    "    r2_square = r2_score(true,predicted)\n",
    "    return mae,rmse, r2_square"
   ]
  },
  {
   "cell_type": "code",
   "execution_count": null,
   "id": "920f9704",
   "metadata": {},
   "outputs": [],
   "source": []
  },
  {
   "cell_type": "code",
   "execution_count": null,
   "id": "de2958e2",
   "metadata": {},
   "outputs": [],
   "source": [
    "models = {\n",
    "    \"Linear Regression\": LinearRegression(),\n",
    "    \"Lasso\": Lasso(),\n",
    "    \"Ridge\": Ridge(),\n",
    "    \"K-Neighbors Regressor\": KNeighborsRegressor(),\n",
    "    \"Decision Tree\": DecisionTreeRegressor(),\n",
    "    \"Random Forest Regressor\": RandomForestRegressor(),\n",
    "    \"XGBRegressor\": XGBRegressor(), \n",
    "    \"AdaBoost Regressor\": AdaBoostRegressor()\n",
    "}\n",
    "model_list = []\n",
    "r2_list =[]\n",
    "\n",
    "for i in range(len(list(models))):\n",
    "    model = list(models.values())[i]\n",
    "    model.fit(X_train,y_train) # train model\n",
    "\n",
    "    # make predictions\n",
    "\n",
    "    y_train_pred = model.predict(X_train)\n",
    "    y_test_pred = model.predict(X_test)\n",
    "\n",
    "    # evaluate train and test dataset\n",
    "\n",
    "    model_train_mae , model_train_rmse, model_train_r2 = evaluate_model(y_train, y_train_pred)\n",
    "\n",
    "    model_test_mae , model_test_rmse, model_test_r2 = evaluate_model(y_test, y_test_pred)\n",
    "\n",
    "    \n",
    "    print(list(models.keys())[i])\n",
    "    model_list.append(list(models.keys())[i])\n",
    "    \n",
    "    print('Model performance for Training set')\n",
    "    print(\"- Root Mean Squared Error: {:.4f}\".format(model_train_rmse))\n",
    "    print(\"- Mean Absolute Error: {:.4f}\".format(model_train_mae))\n",
    "    print(\"- R2 Score: {:.4f}\".format(model_train_r2))\n",
    "\n",
    "    print('----------------------------------')\n",
    "    \n",
    "    print('Model performance for Test set')\n",
    "    print(\"- Root Mean Squared Error: {:.4f}\".format(model_test_rmse))\n",
    "    print(\"- Mean Absolute Error: {:.4f}\".format(model_test_mae))\n",
    "    print(\"- R2 Score: {:.4f}\".format(model_test_r2))\n",
    "    r2_list.append(model_test_r2)\n",
    "    \n",
    "    print('='*35)\n",
    "    print('\\n')\n",
    "\n",
    "        "
   ]
  },
  {
   "cell_type": "markdown",
   "id": "1eac92c7",
   "metadata": {},
   "source": [
    "we will select Xgboost and hyperparameter tune it"
   ]
  },
  {
   "cell_type": "code",
   "execution_count": null,
   "id": "9a3bdc17",
   "metadata": {},
   "outputs": [],
   "source": [
    "XGBRegressor()"
   ]
  },
  {
   "cell_type": "code",
   "execution_count": null,
   "id": "9543916d",
   "metadata": {},
   "outputs": [],
   "source": [
    "params = {\n",
    "    'model__n_estimators': [100, 50, 80],\n",
    "    'model__max_depth': [3, 2, 1],\n",
    "    'model__learning_rate': [0.05, 0.01, 0.20],\n",
    "    }"
   ]
  },
  {
   "cell_type": "code",
   "execution_count": null,
   "id": "0d13f41e",
   "metadata": {},
   "outputs": [],
   "source": [
    "gs = RandomizedSearchCV(XGBRegressor(),param_distributions=params,verbose=True,n_jobs=-1)"
   ]
  },
  {
   "cell_type": "code",
   "execution_count": null,
   "id": "53c7593a",
   "metadata": {},
   "outputs": [],
   "source": [
    "gs.fit(X_train,y_train)"
   ]
  },
  {
   "cell_type": "code",
   "execution_count": null,
   "id": "8eb4f5d5",
   "metadata": {},
   "outputs": [],
   "source": [
    "pre = gs.predict(X_test)"
   ]
  },
  {
   "cell_type": "code",
   "execution_count": null,
   "id": "6cc3d934",
   "metadata": {},
   "outputs": [],
   "source": [
    "r2_score(y_test,pre)"
   ]
  },
  {
   "cell_type": "code",
   "execution_count": null,
   "id": "4adaeced",
   "metadata": {},
   "outputs": [],
   "source": [
    "p1 = xg.predict(X_test)"
   ]
  },
  {
   "cell_type": "code",
   "execution_count": null,
   "id": "8340a986",
   "metadata": {},
   "outputs": [],
   "source": [
    "r2_score(y_test,p1)"
   ]
  },
  {
   "cell_type": "code",
   "execution_count": null,
   "id": "5acf3255",
   "metadata": {},
   "outputs": [],
   "source": [
    "import pickle"
   ]
  },
  {
   "cell_type": "code",
   "execution_count": null,
   "id": "1a61eb57",
   "metadata": {},
   "outputs": [],
   "source": [
    "with open('model.pickle','wb') as fl:\n",
    "    pickle.dump(gs,fl)"
   ]
  },
  {
   "cell_type": "code",
   "execution_count": null,
   "id": "66d393d2",
   "metadata": {},
   "outputs": [],
   "source": [
    "with open('model.pickle','rb') as rf:\n",
    "    g = pickle.load(rf)"
   ]
  },
  {
   "cell_type": "code",
   "execution_count": null,
   "id": "2a52bb07",
   "metadata": {},
   "outputs": [],
   "source": [
    "X"
   ]
  },
  {
   "cell_type": "code",
   "execution_count": null,
   "id": "818edee2",
   "metadata": {},
   "outputs": [],
   "source": [
    "df"
   ]
  },
  {
   "cell_type": "code",
   "execution_count": null,
   "id": "af69e38a",
   "metadata": {},
   "outputs": [],
   "source": [
    "test_file = pd.read_excel('Test_set.xlsx')"
   ]
  },
  {
   "cell_type": "code",
   "execution_count": null,
   "id": "ec4b6d93",
   "metadata": {},
   "outputs": [],
   "source": [
    "test_file"
   ]
  },
  {
   "cell_type": "code",
   "execution_count": null,
   "id": "6945614c",
   "metadata": {},
   "outputs": [],
   "source": [
    "data = test_file.iloc[1]"
   ]
  },
  {
   "cell_type": "code",
   "execution_count": null,
   "id": "e1de0b75",
   "metadata": {},
   "outputs": [],
   "source": [
    "data = pd.DataFrame(data).T"
   ]
  },
  {
   "cell_type": "code",
   "execution_count": null,
   "id": "988391ba",
   "metadata": {},
   "outputs": [],
   "source": []
  },
  {
   "cell_type": "code",
   "execution_count": null,
   "id": "3261222e",
   "metadata": {},
   "outputs": [],
   "source": [
    "def process(df):\n",
    "    df[\"Journey_day\"]=pd.to_datetime(df[\"Date_of_Journey\"],format=\"%d/%m/%Y\").dt.day\n",
    "    df[\"Journey_month\"]=pd.to_datetime(df[\"Date_of_Journey\"],format=\"%d/%m/%Y\").dt.month\n",
    "\n",
    "    df[\"Dep_hour\"] = pd.to_datetime(df[\"Dep_Time\"]).dt.hour\n",
    "    df[\"Dep_min\"] = pd.to_datetime(df[\"Dep_Time\"]).dt.minute\n",
    "\n",
    "    df[\"Arr_hour\"] = pd.to_datetime(df[\"Arrival_Time\"]).dt.hour\n",
    "    df[\"Arr_min\"] = pd.to_datetime(df[\"Arrival_Time\"]).dt.minute\n",
    "\n",
    "    dur_hour=[]\n",
    "    dur_min=[]\n",
    "    for i in df.Duration:\n",
    "        if 'h'in i and 'm' in i:\n",
    "            dur_hour.append(int(i.split('h')[0]))\n",
    "            dur_min.append(int(i.split('h')[1][:-1]))\n",
    "        elif 'h' in i:\n",
    "            dur_hour.append(int(i.split('h')[0]))\n",
    "            dur_min.append(int(0))\n",
    "\n",
    "        else:\n",
    "            dur_hour.append(int(0))\n",
    "            dur_min.append(int(i[:-1]))\n",
    "\n",
    "\n",
    "    df['Duration_hour'] = dur_hour\n",
    "    df['Duration_min'] = dur_min\n",
    "\n",
    "    df.drop(columns=['Date_of_Journey','Route','Dep_Time','Arrival_Time','Duration','Additional_Info'],axis=1,inplace=True)\n",
    "\n",
    "    df['Source'] = df.Source.apply(lambda x: \"Source_\" + x)\n",
    "    df['Destination'] = df.Destination.apply(lambda x: \"Destination_\" + x)\n",
    "\n",
    "\n",
    "    df['Total_Stops'] = df.Total_Stops.replace({\"non-stop\":0,\"1 stop\" : 1,\"2 stops\":2,\"3 stops\":3,\"4 stops\":4})\n",
    "\n",
    "    df['Total_Stops'] = df.Total_Stops.fillna(df.Total_Stops.median())\n",
    "\n",
    "    df['Total_Stops'] = df.Total_Stops.apply(lambda x: int(x))\n",
    "\n",
    "    df = pd.concat([df,pd.get_dummies(df.Airline,drop_first=True)],axis=1)\n",
    "\n",
    "    df = pd.concat([df,pd.get_dummies(df.Source,drop_first=True)],axis=1)\n",
    "\n",
    "    df = pd.concat([df,pd.get_dummies(df.Destination,drop_first=True)],axis=1)\n",
    "\n",
    "\n",
    "\n",
    "    fd = pd.read_csv('test_samp.csv')\n",
    "\n",
    "    for i in fd.columns:\n",
    "        df[i] = 0\n",
    "        \n",
    "    df.drop(columns=['Airline','Source','Destination'],axis=1,inplace=True)\n",
    "\n",
    "\n",
    "    return df"
   ]
  },
  {
   "cell_type": "code",
   "execution_count": null,
   "id": "02f82592",
   "metadata": {},
   "outputs": [],
   "source": [
    "ndf = pd.read_excel('Data_Train.xlsx')"
   ]
  },
  {
   "cell_type": "code",
   "execution_count": null,
   "id": "503f4ef0",
   "metadata": {},
   "outputs": [],
   "source": [
    "data = ndf.iloc[1]"
   ]
  },
  {
   "cell_type": "code",
   "execution_count": null,
   "id": "2cd0237f",
   "metadata": {},
   "outputs": [],
   "source": [
    "price = data.Price"
   ]
  },
  {
   "cell_type": "code",
   "execution_count": null,
   "id": "01332de6",
   "metadata": {},
   "outputs": [],
   "source": [
    "data.drop(['Price'],inplace=True)"
   ]
  },
  {
   "cell_type": "code",
   "execution_count": null,
   "id": "ca1f325e",
   "metadata": {},
   "outputs": [],
   "source": [
    "fd = process(pd.DataFrame(data).T)"
   ]
  },
  {
   "cell_type": "code",
   "execution_count": null,
   "id": "f920f845",
   "metadata": {},
   "outputs": [],
   "source": [
    "p = sc.transform(fd)"
   ]
  },
  {
   "cell_type": "code",
   "execution_count": null,
   "id": "f7270288",
   "metadata": {},
   "outputs": [],
   "source": [
    "gs.predict(p)"
   ]
  },
  {
   "cell_type": "code",
   "execution_count": null,
   "id": "0ea064ec",
   "metadata": {},
   "outputs": [],
   "source": [
    "price"
   ]
  },
  {
   "cell_type": "code",
   "execution_count": null,
   "id": "a2bb57b8",
   "metadata": {},
   "outputs": [],
   "source": [
    "with open('scaler.pickle','wb') as file:\n",
    "    pickle.dump(sc,file)"
   ]
  },
  {
   "cell_type": "code",
   "execution_count": null,
   "id": "96a45bca",
   "metadata": {},
   "outputs": [],
   "source": []
  }
 ],
 "metadata": {
  "kernelspec": {
   "display_name": "Python 3 (ipykernel)",
   "language": "python",
   "name": "python3"
  },
  "language_info": {
   "codemirror_mode": {
    "name": "ipython",
    "version": 3
   },
   "file_extension": ".py",
   "mimetype": "text/x-python",
   "name": "python",
   "nbconvert_exporter": "python",
   "pygments_lexer": "ipython3",
   "version": "3.11.2"
  }
 },
 "nbformat": 4,
 "nbformat_minor": 5
}
